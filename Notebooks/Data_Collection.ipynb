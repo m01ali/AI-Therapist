{
  "cells": [
    {
      "cell_type": "markdown",
      "source": [
        "Run this file locally. Collab doesn't support asyncpraw properly which can cause 401 issues during scrapping.\n",
        "\n",
        "* Here negative means negative examples, positive means positive examples and neutral means neutral examples\n",
        "\n",
        "* Uncomment the 'negative' subreddits and run all the files and save the 'negative' dataset.\n",
        "Then do this for postive and neutral too\n",
        "\n",
        "* Finally combine all these 3 datasets manually via excel or similar tool and save the file as `Reddit-data-combined`"
      ],
      "metadata": {
        "id": "5QTsyXOmpMZo"
      },
      "id": "5QTsyXOmpMZo"
    },
    {
      "cell_type": "code",
      "source": [
        "!pip install asyncpraw"
      ],
      "metadata": {
        "colab": {
          "base_uri": "https://localhost:8080/"
        },
        "collapsed": true,
        "id": "mzxikgmtoVgJ",
        "outputId": "8d51146e-cdec-46da-c0c9-b6d2515bc103"
      },
      "id": "mzxikgmtoVgJ",
      "execution_count": null,
      "outputs": [
        {
          "output_type": "stream",
          "name": "stdout",
          "text": [
            "Collecting asyncpraw\n",
            "  Downloading asyncpraw-7.7.1-py3-none-any.whl.metadata (9.7 kB)\n",
            "Collecting aiofiles<1 (from asyncpraw)\n",
            "  Downloading aiofiles-0.8.0-py3-none-any.whl.metadata (7.0 kB)\n",
            "Requirement already satisfied: aiohttp<4 in /usr/local/lib/python3.10/dist-packages (from asyncpraw) (3.10.5)\n",
            "Collecting aiosqlite<=0.17.0 (from asyncpraw)\n",
            "  Downloading aiosqlite-0.17.0-py3-none-any.whl.metadata (4.1 kB)\n",
            "Collecting asyncprawcore<3,>=2.1 (from asyncpraw)\n",
            "  Downloading asyncprawcore-2.4.0-py3-none-any.whl.metadata (5.5 kB)\n",
            "Collecting update-checker>=0.18 (from asyncpraw)\n",
            "  Downloading update_checker-0.18.0-py3-none-any.whl.metadata (2.3 kB)\n",
            "Requirement already satisfied: aiohappyeyeballs>=2.3.0 in /usr/local/lib/python3.10/dist-packages (from aiohttp<4->asyncpraw) (2.4.0)\n",
            "Requirement already satisfied: aiosignal>=1.1.2 in /usr/local/lib/python3.10/dist-packages (from aiohttp<4->asyncpraw) (1.3.1)\n",
            "Requirement already satisfied: attrs>=17.3.0 in /usr/local/lib/python3.10/dist-packages (from aiohttp<4->asyncpraw) (24.2.0)\n",
            "Requirement already satisfied: frozenlist>=1.1.1 in /usr/local/lib/python3.10/dist-packages (from aiohttp<4->asyncpraw) (1.4.1)\n",
            "Requirement already satisfied: multidict<7.0,>=4.5 in /usr/local/lib/python3.10/dist-packages (from aiohttp<4->asyncpraw) (6.1.0)\n",
            "Requirement already satisfied: yarl<2.0,>=1.0 in /usr/local/lib/python3.10/dist-packages (from aiohttp<4->asyncpraw) (1.11.1)\n",
            "Requirement already satisfied: async-timeout<5.0,>=4.0 in /usr/local/lib/python3.10/dist-packages (from aiohttp<4->asyncpraw) (4.0.3)\n",
            "Requirement already satisfied: typing_extensions>=3.7.2 in /usr/local/lib/python3.10/dist-packages (from aiosqlite<=0.17.0->asyncpraw) (4.12.2)\n",
            "Requirement already satisfied: requests>=2.3.0 in /usr/local/lib/python3.10/dist-packages (from update-checker>=0.18->asyncpraw) (2.32.3)\n",
            "Requirement already satisfied: charset-normalizer<4,>=2 in /usr/local/lib/python3.10/dist-packages (from requests>=2.3.0->update-checker>=0.18->asyncpraw) (3.3.2)\n",
            "Requirement already satisfied: idna<4,>=2.5 in /usr/local/lib/python3.10/dist-packages (from requests>=2.3.0->update-checker>=0.18->asyncpraw) (3.10)\n",
            "Requirement already satisfied: urllib3<3,>=1.21.1 in /usr/local/lib/python3.10/dist-packages (from requests>=2.3.0->update-checker>=0.18->asyncpraw) (2.2.3)\n",
            "Requirement already satisfied: certifi>=2017.4.17 in /usr/local/lib/python3.10/dist-packages (from requests>=2.3.0->update-checker>=0.18->asyncpraw) (2024.8.30)\n",
            "Downloading asyncpraw-7.7.1-py3-none-any.whl (196 kB)\n",
            "\u001b[2K   \u001b[90m━━━━━━━━━━━━━━━━━━━━━━━━━━━━━━━━━━━━━━━━\u001b[0m \u001b[32m196.7/196.7 kB\u001b[0m \u001b[31m6.3 MB/s\u001b[0m eta \u001b[36m0:00:00\u001b[0m\n",
            "\u001b[?25hDownloading aiofiles-0.8.0-py3-none-any.whl (13 kB)\n",
            "Downloading aiosqlite-0.17.0-py3-none-any.whl (15 kB)\n",
            "Downloading asyncprawcore-2.4.0-py3-none-any.whl (19 kB)\n",
            "Downloading update_checker-0.18.0-py3-none-any.whl (7.0 kB)\n",
            "Installing collected packages: aiosqlite, aiofiles, update-checker, asyncprawcore, asyncpraw\n",
            "Successfully installed aiofiles-0.8.0 aiosqlite-0.17.0 asyncpraw-7.7.1 asyncprawcore-2.4.0 update-checker-0.18.0\n"
          ]
        }
      ]
    },
    {
      "cell_type": "code",
      "execution_count": null,
      "id": "4deed0bf-1057-4af1-8c08-9204461aa1fc",
      "metadata": {
        "id": "4deed0bf-1057-4af1-8c08-9204461aa1fc"
      },
      "outputs": [],
      "source": [
        "import asyncio\n",
        "import asyncpraw\n",
        "import nest_asyncio\n",
        "import pandas as pd\n",
        "import re\n",
        "import time\n",
        "from datetime import datetime"
      ]
    },
    {
      "cell_type": "code",
      "execution_count": null,
      "id": "91f88b45-0a17-4eac-9a20-6c1bd6049fa1",
      "metadata": {
        "id": "91f88b45-0a17-4eac-9a20-6c1bd6049fa1"
      },
      "outputs": [],
      "source": [
        "# # Negative Examples\n",
        "# subreddits = [\n",
        "#     \"depression\", \"SuicideWatch\", \"selfharm\", \"selfharmteens\", \"mentalhealth\",\"SelfHate\", \"SuicideBereavement\",\n",
        "#     \"bullying\", \"Anxiety\", \"BPD\", \"CPTSD\", \"depression_help\", \"mentalillness\", \"confidence\", \"needadvice\",\n",
        "#     \"offmychest\", \"PanicAttack\", \"PTSD\", \"sad\", \"socialanxiety\", \"MentalHealthUK\", \"emotionalneglect\",\n",
        "#     \"SuicidePrevention\", \"traumatoolbox\", \"twosentencehorror\",\n",
        "#     \"venting\", \"bipolar\", \"eating_disorders\", \"foreveralone\", \"lonely\",\n",
        "#     \"mentalhealthsupport\", \"OCD\", \"psychoticreddit\", \"schizophrenia\", \"selfhelp\",\n",
        "#     \"stress\", \"Therapy\", \"trauma\", \"TrueOffMyChest\", \"UnsentLetters\", \"addiction\",\n",
        "#     \"alcoholism\", \"getting_over_it\", \"griefsupport\", \"hardshipmates\",\n",
        "#     \"helpme\", \"mentalhealthmatters\", \"needafriend\", \"runaway\", \"teen_venting\"\n",
        "# ]"
      ]
    },
    {
      "cell_type": "code",
      "source": [
        "# # POSITIVE\n",
        "# subreddits = [\n",
        "#     \"GoodNews\", \"GetMotivated\", \"MadeMeSmile\", \"HumansBeingBros\", \"Happy\", \"DecidingToBeBetter\",\n",
        "#     \" KindVoice\", \"RandomActsOfKindness\", \"positivityDaily\", \"GetMotivated\", \"happydayswasgreat\",\"GetMotivatedBuddies\"\n",
        "# ]"
      ],
      "metadata": {
        "id": "bDk1SEzYnQiy"
      },
      "id": "bDk1SEzYnQiy",
      "execution_count": null,
      "outputs": []
    },
    {
      "cell_type": "code",
      "source": [
        "# # Neutral\n",
        "# subreddits = [\n",
        "#     \"NeutralPolitics\", \"AskHistorians\", \"ExplainLikeImFive\", \"AskScience\", \"TrueAskReddit\", \"DepthHub\",\n",
        "#     \"ChangeMyView\", \"OutOfTheLoop\", \"TodayILearned\", \"WritingPrompts\",\"LegalAdvice\", \"AskScienceFiction\",\n",
        "#     \"AskOuija\", \"PointlessStories\", \"WhatIsThisThing\"\n",
        "# ]"
      ],
      "metadata": {
        "id": "EHd4CmIxnR40"
      },
      "id": "EHd4CmIxnR40",
      "execution_count": null,
      "outputs": []
    },
    {
      "cell_type": "code",
      "execution_count": null,
      "id": "173077be-cf46-4f89-bbe7-912d87d73ee0",
      "metadata": {
        "id": "173077be-cf46-4f89-bbe7-912d87d73ee0",
        "outputId": "2a4b4c9f-25e8-4ed7-c6e7-0ee8ebfe535a",
        "colab": {
          "base_uri": "https://localhost:8080/"
        }
      },
      "outputs": [
        {
          "output_type": "execute_result",
          "data": {
            "text/plain": [
              "12"
            ]
          },
          "metadata": {},
          "execution_count": 5
        }
      ],
      "source": [
        "len(subreddits)"
      ]
    },
    {
      "cell_type": "markdown",
      "source": [
        "### Scrapping Reddit"
      ],
      "metadata": {
        "id": "ntVzoDjk81hX"
      },
      "id": "ntVzoDjk81hX"
    },
    {
      "cell_type": "code",
      "source": [
        "from getpass import getpass\n",
        "ID = getpass('Enter client_id: ')"
      ],
      "metadata": {
        "colab": {
          "base_uri": "https://localhost:8080/"
        },
        "id": "XDFRJ9Q8ndQK",
        "outputId": "d52cb5a2-1df2-4be9-bd7b-efe866c1ff2b"
      },
      "id": "XDFRJ9Q8ndQK",
      "execution_count": null,
      "outputs": [
        {
          "name": "stdout",
          "output_type": "stream",
          "text": [
            "Enter client_id: ··········\n"
          ]
        }
      ]
    },
    {
      "cell_type": "code",
      "source": [
        "SECRET = getpass('Enter client_secret: ')"
      ],
      "metadata": {
        "colab": {
          "base_uri": "https://localhost:8080/"
        },
        "id": "XDkdjaOBnkLR",
        "outputId": "80c7ef65-b7b6-4102-91dc-2c0233e588a5"
      },
      "id": "XDkdjaOBnkLR",
      "execution_count": null,
      "outputs": [
        {
          "name": "stdout",
          "output_type": "stream",
          "text": [
            "Enter client_secret: ··········\n"
          ]
        }
      ]
    },
    {
      "cell_type": "code",
      "execution_count": null,
      "id": "fe155803-7d16-4659-a08f-f4797f353a8a",
      "metadata": {
        "id": "fe155803-7d16-4659-a08f-f4797f353a8a"
      },
      "outputs": [],
      "source": [
        "reddit = asyncpraw.Reddit(client_id=ID,\n",
        "                          client_secret=SECRET,\n",
        "                          user_agent='Scraper 1.0 by /u/HimGoneWild')"
      ]
    },
    {
      "cell_type": "code",
      "execution_count": null,
      "id": "1924f7f8-52be-4fa5-9beb-43cd581029b6",
      "metadata": {
        "id": "1924f7f8-52be-4fa5-9beb-43cd581029b6"
      },
      "outputs": [],
      "source": [
        "async def fetch_posts():\n",
        "    data = []\n",
        "    for subreddit_name in subreddits:\n",
        "        try:\n",
        "            subreddit = await reddit.subreddit(subreddit_name)\n",
        "            async for submission in subreddit.hot(limit=250):\n",
        "                # Extract the first paragraph or first few sentences\n",
        "                first_paragraph = submission.selftext.strip().split('\\n')[0]\n",
        "\n",
        "                # Extract sentences containing specific keywords\n",
        "                keywords = ['depression', 'suicide', 'bullying', 'stress', 'anxiety','kill','live','life','harm']\n",
        "                relevant_sentences = []\n",
        "                for sentence in re.split(r'\\. |\\n', submission.selftext.strip()):\n",
        "                    if any(keyword in sentence.lower() for keyword in keywords):\n",
        "                        relevant_sentences.append(sentence.strip())\n",
        "\n",
        "                selective_content = \" \".join(relevant_sentences) if relevant_sentences else first_paragraph\n",
        "\n",
        "                # Extract additional metadata\n",
        "                post_time = datetime.fromtimestamp(submission.created_utc).isoformat()\n",
        "                data.append({\n",
        "                    \"title\": submission.title,\n",
        "                    \"selective_selftext\": selective_content,\n",
        "                    \"subreddit\": subreddit_name,\n",
        "                    \"post_time\": post_time,\n",
        "                    \"upvotes\": submission.score,\n",
        "                    \"num_comments\": submission.num_comments\n",
        "                })\n",
        "            # Delay to handle rate limiting\n",
        "            time.sleep(2)\n",
        "        except Exception as e:\n",
        "            print(f\"Error fetching data from {subreddit_name}: {e}\")\n",
        "    return data"
      ]
    },
    {
      "cell_type": "code",
      "execution_count": null,
      "id": "0a6dab8a-e0d6-405e-bb12-5543f2f73c93",
      "metadata": {
        "id": "0a6dab8a-e0d6-405e-bb12-5543f2f73c93",
        "outputId": "ee053b43-e5af-48c9-c8f5-25e0356d1dca",
        "colab": {
          "base_uri": "https://localhost:8080/"
        }
      },
      "outputs": [
        {
          "output_type": "stream",
          "name": "stdout",
          "text": [
            "Error fetching data from GoodNews: received 401 HTTP response\n",
            "Error fetching data from GetMotivated: received 401 HTTP response\n",
            "Error fetching data from MadeMeSmile: received 401 HTTP response\n",
            "Error fetching data from HumansBeingBros: received 401 HTTP response\n",
            "Error fetching data from Happy: received 401 HTTP response\n",
            "Error fetching data from DecidingToBeBetter: received 401 HTTP response\n",
            "Error fetching data from  KindVoice: received 401 HTTP response\n",
            "Error fetching data from RandomActsOfKindness: received 401 HTTP response\n",
            "Error fetching data from positivityDaily: received 401 HTTP response\n",
            "Error fetching data from GetMotivated: received 401 HTTP response\n",
            "Error fetching data from happydayswasgreat: received 401 HTTP response\n",
            "Error fetching data from GetMotivatedBuddies: received 401 HTTP response\n"
          ]
        }
      ],
      "source": [
        "# Run the asynchronous function and store the results in a DataFrame\n",
        "data = await fetch_posts()"
      ]
    },
    {
      "cell_type": "code",
      "execution_count": null,
      "id": "4d30803b-b8e7-4e4a-9d00-956db314cae9",
      "metadata": {
        "id": "4d30803b-b8e7-4e4a-9d00-956db314cae9",
        "outputId": "84d7cf42-91cc-4a1e-f412-266885356955",
        "colab": {
          "base_uri": "https://localhost:8080/",
          "height": 53
        }
      },
      "outputs": [
        {
          "output_type": "execute_result",
          "data": {
            "text/plain": [
              "Empty DataFrame\n",
              "Columns: []\n",
              "Index: []"
            ],
            "text/html": [
              "\n",
              "  <div id=\"df-8e6372be-a7ed-4e58-8531-864fba614d98\" class=\"colab-df-container\">\n",
              "    <div>\n",
              "<style scoped>\n",
              "    .dataframe tbody tr th:only-of-type {\n",
              "        vertical-align: middle;\n",
              "    }\n",
              "\n",
              "    .dataframe tbody tr th {\n",
              "        vertical-align: top;\n",
              "    }\n",
              "\n",
              "    .dataframe thead th {\n",
              "        text-align: right;\n",
              "    }\n",
              "</style>\n",
              "<table border=\"1\" class=\"dataframe\">\n",
              "  <thead>\n",
              "    <tr style=\"text-align: right;\">\n",
              "      <th></th>\n",
              "    </tr>\n",
              "  </thead>\n",
              "  <tbody>\n",
              "  </tbody>\n",
              "</table>\n",
              "</div>\n",
              "    <div class=\"colab-df-buttons\">\n",
              "\n",
              "  <div class=\"colab-df-container\">\n",
              "    <button class=\"colab-df-convert\" onclick=\"convertToInteractive('df-8e6372be-a7ed-4e58-8531-864fba614d98')\"\n",
              "            title=\"Convert this dataframe to an interactive table.\"\n",
              "            style=\"display:none;\">\n",
              "\n",
              "  <svg xmlns=\"http://www.w3.org/2000/svg\" height=\"24px\" viewBox=\"0 -960 960 960\">\n",
              "    <path d=\"M120-120v-720h720v720H120Zm60-500h600v-160H180v160Zm220 220h160v-160H400v160Zm0 220h160v-160H400v160ZM180-400h160v-160H180v160Zm440 0h160v-160H620v160ZM180-180h160v-160H180v160Zm440 0h160v-160H620v160Z\"/>\n",
              "  </svg>\n",
              "    </button>\n",
              "\n",
              "  <style>\n",
              "    .colab-df-container {\n",
              "      display:flex;\n",
              "      gap: 12px;\n",
              "    }\n",
              "\n",
              "    .colab-df-convert {\n",
              "      background-color: #E8F0FE;\n",
              "      border: none;\n",
              "      border-radius: 50%;\n",
              "      cursor: pointer;\n",
              "      display: none;\n",
              "      fill: #1967D2;\n",
              "      height: 32px;\n",
              "      padding: 0 0 0 0;\n",
              "      width: 32px;\n",
              "    }\n",
              "\n",
              "    .colab-df-convert:hover {\n",
              "      background-color: #E2EBFA;\n",
              "      box-shadow: 0px 1px 2px rgba(60, 64, 67, 0.3), 0px 1px 3px 1px rgba(60, 64, 67, 0.15);\n",
              "      fill: #174EA6;\n",
              "    }\n",
              "\n",
              "    .colab-df-buttons div {\n",
              "      margin-bottom: 4px;\n",
              "    }\n",
              "\n",
              "    [theme=dark] .colab-df-convert {\n",
              "      background-color: #3B4455;\n",
              "      fill: #D2E3FC;\n",
              "    }\n",
              "\n",
              "    [theme=dark] .colab-df-convert:hover {\n",
              "      background-color: #434B5C;\n",
              "      box-shadow: 0px 1px 3px 1px rgba(0, 0, 0, 0.15);\n",
              "      filter: drop-shadow(0px 1px 2px rgba(0, 0, 0, 0.3));\n",
              "      fill: #FFFFFF;\n",
              "    }\n",
              "  </style>\n",
              "\n",
              "    <script>\n",
              "      const buttonEl =\n",
              "        document.querySelector('#df-8e6372be-a7ed-4e58-8531-864fba614d98 button.colab-df-convert');\n",
              "      buttonEl.style.display =\n",
              "        google.colab.kernel.accessAllowed ? 'block' : 'none';\n",
              "\n",
              "      async function convertToInteractive(key) {\n",
              "        const element = document.querySelector('#df-8e6372be-a7ed-4e58-8531-864fba614d98');\n",
              "        const dataTable =\n",
              "          await google.colab.kernel.invokeFunction('convertToInteractive',\n",
              "                                                    [key], {});\n",
              "        if (!dataTable) return;\n",
              "\n",
              "        const docLinkHtml = 'Like what you see? Visit the ' +\n",
              "          '<a target=\"_blank\" href=https://colab.research.google.com/notebooks/data_table.ipynb>data table notebook</a>'\n",
              "          + ' to learn more about interactive tables.';\n",
              "        element.innerHTML = '';\n",
              "        dataTable['output_type'] = 'display_data';\n",
              "        await google.colab.output.renderOutput(dataTable, element);\n",
              "        const docLink = document.createElement('div');\n",
              "        docLink.innerHTML = docLinkHtml;\n",
              "        element.appendChild(docLink);\n",
              "      }\n",
              "    </script>\n",
              "  </div>\n",
              "\n",
              "\n",
              "    </div>\n",
              "  </div>\n"
            ],
            "application/vnd.google.colaboratory.intrinsic+json": {
              "type": "dataframe",
              "variable_name": "df",
              "summary": "{\n  \"name\": \"df\",\n  \"rows\": 0,\n  \"fields\": []\n}"
            }
          },
          "metadata": {},
          "execution_count": 13
        }
      ],
      "source": [
        "df = pd.DataFrame(data)\n",
        "df.head()"
      ]
    },
    {
      "cell_type": "code",
      "execution_count": null,
      "id": "1dd6bff3-1981-4457-95db-d743c085f0b3",
      "metadata": {
        "id": "1dd6bff3-1981-4457-95db-d743c085f0b3",
        "outputId": "fadd5031-f80f-45a9-9d27-e113b3c4f7a7"
      },
      "outputs": [
        {
          "name": "stdout",
          "output_type": "stream",
          "text": [
            "<class 'pandas.core.frame.DataFrame'>\n",
            "RangeIndex: 12096 entries, 0 to 12095\n",
            "Data columns (total 6 columns):\n",
            " #   Column              Non-Null Count  Dtype \n",
            "---  ------              --------------  ----- \n",
            " 0   title               12096 non-null  object\n",
            " 1   selective_selftext  12096 non-null  object\n",
            " 2   subreddit           12096 non-null  object\n",
            " 3   post_time           12096 non-null  object\n",
            " 4   upvotes             12096 non-null  int64 \n",
            " 5   num_comments        12096 non-null  int64 \n",
            "dtypes: int64(2), object(4)\n",
            "memory usage: 567.1+ KB\n"
          ]
        }
      ],
      "source": [
        "df.info()"
      ]
    },
    {
      "cell_type": "code",
      "source": [
        "# Remove rows where 'selective_selftext' is an empty string\n",
        "df = df[df['selective_selftext'] != '']\n",
        "\n",
        "# Alternatively, you can use the .replace() method to convert empty strings to NaN and then drop them\n",
        "df['selective_selftext'].replace('', np.nan, inplace=True)\n",
        "df.dropna(subset=['selective_selftext'], inplace=True)"
      ],
      "metadata": {
        "id": "_RHGgDf-pw1w"
      },
      "id": "_RHGgDf-pw1w",
      "execution_count": null,
      "outputs": []
    },
    {
      "cell_type": "code",
      "source": [
        "df = df[~df['selective_selftext'].str.contains(r'http[s]?://', na=False)]"
      ],
      "metadata": {
        "id": "9zXG-5DiqZ7U"
      },
      "id": "9zXG-5DiqZ7U",
      "execution_count": null,
      "outputs": []
    },
    {
      "cell_type": "code",
      "source": [
        "df.head()"
      ],
      "metadata": {
        "id": "cBxOG_OEqbVO"
      },
      "id": "cBxOG_OEqbVO",
      "execution_count": null,
      "outputs": []
    },
    {
      "cell_type": "code",
      "source": [
        "df.reset_index(drop=True, inplace=True)"
      ],
      "metadata": {
        "id": "tGeWOUUdqh5A"
      },
      "id": "tGeWOUUdqh5A",
      "execution_count": null,
      "outputs": []
    },
    {
      "cell_type": "code",
      "source": [
        "df.info()"
      ],
      "metadata": {
        "id": "EdWuixjCqdnH"
      },
      "id": "EdWuixjCqdnH",
      "execution_count": null,
      "outputs": []
    },
    {
      "cell_type": "code",
      "source": [
        "df = df[df['selective_selftext'].apply(lambda x: len(x.split()) > 5)]"
      ],
      "metadata": {
        "id": "pD6ws8xwq_Js"
      },
      "id": "pD6ws8xwq_Js",
      "execution_count": null,
      "outputs": []
    },
    {
      "cell_type": "code",
      "source": [
        "df.info()"
      ],
      "metadata": {
        "id": "EE3jBnc3q_nn"
      },
      "id": "EE3jBnc3q_nn",
      "execution_count": null,
      "outputs": []
    },
    {
      "cell_type": "code",
      "source": [
        "df.value_counts(\"subreddit\")"
      ],
      "metadata": {
        "id": "02Bqp4gxrA8Y"
      },
      "id": "02Bqp4gxrA8Y",
      "execution_count": null,
      "outputs": []
    },
    {
      "cell_type": "code",
      "source": [
        "df.rename(columns={'selective_selftext': 'post_text'}, inplace=True)"
      ],
      "metadata": {
        "id": "q9yIdtdKrCDz"
      },
      "id": "q9yIdtdKrCDz",
      "execution_count": null,
      "outputs": []
    },
    {
      "cell_type": "code",
      "source": [
        "df.head()"
      ],
      "metadata": {
        "id": "85WdQeC8rEy9"
      },
      "id": "85WdQeC8rEy9",
      "execution_count": null,
      "outputs": []
    },
    {
      "cell_type": "code",
      "execution_count": null,
      "id": "f01e52bd-bf8f-48e2-bfb5-83a3ed3a9100",
      "metadata": {
        "id": "f01e52bd-bf8f-48e2-bfb5-83a3ed3a9100"
      },
      "outputs": [],
      "source": [
        "# df.to_excel('positive-dataset.xlsx', index=False)\n",
        "# df.to_excel('positive-dataset.xlsx', index=False)\n",
        "# df.to_excel('neutral-dataset.xlsx', index=False)"
      ]
    }
  ],
  "metadata": {
    "kernelspec": {
      "display_name": "Python 3 (ipykernel)",
      "language": "python",
      "name": "python3"
    },
    "language_info": {
      "codemirror_mode": {
        "name": "ipython",
        "version": 3
      },
      "file_extension": ".py",
      "mimetype": "text/x-python",
      "name": "python",
      "nbconvert_exporter": "python",
      "pygments_lexer": "ipython3",
      "version": "3.11.4"
    },
    "colab": {
      "provenance": []
    }
  },
  "nbformat": 4,
  "nbformat_minor": 5
}